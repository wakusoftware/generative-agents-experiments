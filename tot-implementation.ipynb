{
 "cells": [
  {
   "cell_type": "code",
   "outputs": [
    {
     "data": {
      "text/plain": "True"
     },
     "execution_count": 1,
     "metadata": {},
     "output_type": "execute_result"
    }
   ],
   "source": [
    "from langchain.chains import LLMChain\n",
    "from langchain.prompts import PromptTemplate\n",
    "from langchain.chat_models import ChatOpenAI\n",
    "from dotenv import load_dotenv\n",
    "\n",
    "load_dotenv()"
   ],
   "metadata": {
    "collapsed": false,
    "ExecuteTime": {
     "end_time": "2024-03-24T18:03:08.213623Z",
     "start_time": "2024-03-24T18:03:07.142185Z"
    }
   },
   "id": "dc613a3002f56e2a",
   "execution_count": 1
  },
  {
   "cell_type": "code",
   "outputs": [],
   "source": [
    "template =\"\"\"\n",
    "Step1 :\n",
    " \n",
    "I have a problem related to {input}. Could you brainstorm three distinct solutions? Please consider a variety of factors such as {perfect_factors}\n",
    "A:\n",
    "\"\"\"\n",
    "\n",
    "prompt = PromptTemplate(\n",
    "    input_variables=[\"input\",\"perfect_factors\"],\n",
    "    template = template                      \n",
    ")\n",
    "\n",
    "chain1 = LLMChain(\n",
    "    llm=ChatOpenAI(temperature=0, model=\"gpt-4-turbo-preview\"),\n",
    "    prompt=prompt,\n",
    "    output_key=\"solutions\"\n",
    ")\n",
    "\n",
    "template =\"\"\"\n",
    "Step 2:\n",
    "\n",
    "For each of the three proposed solutions, evaluate their potential. Consider their pros and cons, initial effort needed, implementation difficulty, potential challenges, and the expected outcomes. Assign a probability of success and a confidence level to each option based on these factors\n",
    "\n",
    "{solutions}\n",
    "\n",
    "A:\"\"\"\n",
    "\n",
    "prompt = PromptTemplate(\n",
    "    input_variables=[\"solutions\"],\n",
    "    template = template                      \n",
    ")\n",
    "\n",
    "chain2 = LLMChain(\n",
    "    llm=ChatOpenAI(temperature=0, model=\"gpt-4-turbo-preview\"),\n",
    "    prompt=prompt,\n",
    "    output_key=\"review\"\n",
    ")\n",
    "\n",
    "template =\"\"\"\n",
    "Step 3:\n",
    "\n",
    "For each solution, deepen the thought process. Generate potential scenarios, strategies for implementation, any necessary partnerships or resources, and how potential obstacles might be overcome. Also, consider any potential unexpected outcomes and how they might be handled.\n",
    "\n",
    "{review}\n",
    "\n",
    "A:\"\"\"\n",
    "\n",
    "prompt = PromptTemplate(\n",
    "    input_variables=[\"review\"],\n",
    "    template = template                      \n",
    ")\n",
    "\n",
    "chain3 = LLMChain(\n",
    "    llm=ChatOpenAI(temperature=0, model=\"gpt-4-turbo-preview\"),\n",
    "    prompt=prompt,\n",
    "    output_key=\"deepen_thought_process\"\n",
    ")\n",
    "\n",
    "template =\"\"\"\n",
    "Step 4:\n",
    "\n",
    "Based on the evaluations and scenarios, rank the solutions in order of promise. Provide a justification for each ranking and offer any final thoughts or considerations for each solution\n",
    "{deepen_thought_process}\n",
    "\n",
    "A:\"\"\"\n",
    "\n",
    "prompt = PromptTemplate(\n",
    "    input_variables=[\"deepen_thought_process\"],\n",
    "    template = template                      \n",
    ")\n",
    "\n",
    "chain4 = LLMChain(\n",
    "    llm=ChatOpenAI(temperature=0, model=\"gpt-4-turbo-preview\"),\n",
    "    prompt=prompt,\n",
    "    output_key=\"ranked_solutions\"\n",
    ")"
   ],
   "metadata": {
    "collapsed": true,
    "ExecuteTime": {
     "end_time": "2024-03-24T18:05:17.497309Z",
     "start_time": "2024-03-24T18:05:17.086313Z"
    }
   },
   "id": "initial_id",
   "execution_count": 4
  },
  {
   "cell_type": "code",
   "outputs": [
    {
     "name": "stderr",
     "output_type": "stream",
     "text": [
      "/Users/danielboza/Documents/Projects/tot-implementation/.venv/lib/python3.12/site-packages/langchain_core/_api/deprecation.py:117: LangChainDeprecationWarning: The function `__call__` was deprecated in LangChain 0.1.0 and will be removed in 0.2.0. Use invoke instead.\n",
      "  warn_deprecated(\n"
     ]
    },
    {
     "name": "stdout",
     "output_type": "stream",
     "text": [
      "\n",
      "\n",
      "\u001B[1m> Entering new SequentialChain chain...\u001B[0m\n",
      "\n",
      "\u001B[1m> Finished chain.\u001B[0m\n",
      "{'input': 'human colonization of Mars', 'perfect_factors': 'The distance between Earth and Mars is very large, making regular resupply difficult', 'ranked_solutions': \"1. **Space Habitats**\\n\\n   - **Pros:** Controlled environments can be tailored to human needs, potentially offering a faster and safer solution for expanding human presence in space.\\n   - **Cons:** High initial investment and technological challenges in creating self-sustaining habitats.\\n   - **Implementation Difficulty:** High, but more feasible with current and near-future technology compared to terraforming.\\n   - **Potential Challenges:** Ensuring long-term sustainability, protection from space radiation, and psychological effects of living in confined spaces.\\n   - **Expected Outcomes:** Could provide a viable living space for humans in space, potentially within a few decades.\\n   - **Probability of Success:** 60%\\n   - **Confidence Level:** Medium\\n\\n   **Justification:** Space habitats rank highest due to their relatively high probability of success and medium confidence level. The technology required is an extension of what we already possess, and the timeframe for implementation is significantly shorter than terraforming. The controlled environment also offers a direct solution to many of the challenges of living in space.\\n\\n2. **Lunar Bases**\\n\\n   - **Pros:** Proximity to Earth, which simplifies logistics and communication. The Moon could serve as a stepping stone for deeper space exploration.\\n   - **Cons:** Harsh living conditions, including extreme temperature variations and lack of atmosphere.\\n   - **Implementation Difficulty:** Moderate to High. Requires significant advancements in habitat technology and life support systems.\\n   - **Potential Challenges:** Long-term health effects of low gravity, reliance on Earth for resources, and technical challenges in construction and sustainability.\\n   - **Expected Outcomes:** Could establish a permanent human presence on the Moon, serving both scientific and strategic purposes.\\n   - **Probability of Success:** 50%\\n   - **Confidence Level:** Medium\\n\\n   **Justification:** Lunar bases are ranked second due to their moderate to high implementation difficulty but higher probability of success compared to terraforming Mars. The proximity to Earth offers logistical advantages, and the Moon could serve as a valuable outpost for further space exploration.\\n\\n3. **Terraforming Mars**\\n\\n   - **Pros:** Could make Mars habitable for humans, allowing for a larger population and more diverse activities.\\n   - **Cons:** The process would likely take centuries or millennia, with significant ethical and environmental implications.\\n   - **Implementation Difficulty:** Very High. Requires technologies and resources far beyond current capabilities.\\n   - **Potential Challenges:** Technical challenges in changing an entire planet's climate, ethical and environmental issues, and the risk of unintended consequences.\\n   - **Expected Outcomes:** Transformation of Mars into a second Earth, if successful.\\n   - **Probability of Success:** 20%\\n   - **Confidence Level:** Low\\n\\n   **Justification:** Terraforming Mars is ranked lowest due to its very high implementation difficulty, low probability of success, and low confidence level. The immense technical, ethical, and environmental challenges, combined with the long timeframe required, make it the least promising solution with current technology and understanding.\\n\\n**Final Thoughts:** While terraforming Mars presents an ambitious vision for the future, the technological and ethical hurdles make it the least feasible option at present. Space habitats and lunar bases offer more immediate and achievable goals for expanding human presence in space, with space habitats presenting the most controlled and adaptable solution. Each option, however, requires significant advancements in technology, careful consideration of ethical implications, and a commitment to long-term sustainability.\"}\n"
     ]
    }
   ],
   "source": [
    "from langchain.chains import SequentialChain\n",
    "\n",
    "overall_chain = SequentialChain(\n",
    "    chains=[chain1, chain2, chain3, chain4],\n",
    "    input_variables=[\"input\", \"perfect_factors\"],\n",
    "    output_variables=[\"ranked_solutions\"],\n",
    "    verbose=True\n",
    ")\n",
    "\n",
    "print(overall_chain({\"input\":\"human colonization of Mars\", \"perfect_factors\":\"The distance between Earth and Mars is very large, making regular resupply difficult\"}))"
   ],
   "metadata": {
    "collapsed": false,
    "ExecuteTime": {
     "end_time": "2024-03-24T18:06:23.237438Z",
     "start_time": "2024-03-24T18:05:20.771019Z"
    }
   },
   "id": "4f9dfc504ce817e2",
   "execution_count": 5
  },
  {
   "cell_type": "code",
   "outputs": [],
   "source": [],
   "metadata": {
    "collapsed": false
   },
   "id": "11961e49e5e05165"
  }
 ],
 "metadata": {
  "kernelspec": {
   "display_name": "Python 3",
   "language": "python",
   "name": "python3"
  },
  "language_info": {
   "codemirror_mode": {
    "name": "ipython",
    "version": 2
   },
   "file_extension": ".py",
   "mimetype": "text/x-python",
   "name": "python",
   "nbconvert_exporter": "python",
   "pygments_lexer": "ipython2",
   "version": "2.7.6"
  }
 },
 "nbformat": 4,
 "nbformat_minor": 5
}
